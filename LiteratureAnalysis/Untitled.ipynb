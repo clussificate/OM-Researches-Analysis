{
 "cells": [
  {
   "cell_type": "code",
   "execution_count": 1,
   "metadata": {},
   "outputs": [],
   "source": [
    "import pickle\n",
    "from tools import load_model\n",
    "import numpy as np\n",
    "from sklearn.metrics import f1_score\n",
    "import matplotlib.pyplot as plt"
   ]
  },
  {
   "cell_type": "code",
   "execution_count": 2,
   "metadata": {},
   "outputs": [
    {
     "data": {
      "text/plain": [
       "array([0, 0, 1, 1, 0])"
      ]
     },
     "execution_count": 2,
     "metadata": {},
     "output_type": "execute_result"
    }
   ],
   "source": [
    "l = np.array([0,0.3,0.7,0.5,0.2])\n",
    "np.where(l>=0.5,1,0)\n"
   ]
  },
  {
   "cell_type": "code",
   "execution_count": 5,
   "metadata": {},
   "outputs": [],
   "source": [
    "def evaluate(y, proba):\n",
    "    y = np.array(y)\n",
    "    proba = np.array(proba)\n",
    "    thetas = np.linspace(0,1,11)\n",
    "    values = []\n",
    "    for theta in thetas:\n",
    "        proba_new = np.where(proba>=theta,1,0)\n",
    "        f1 = f1_score(y, proba_new)\n",
    "        values.append(f1)\n",
    "    return values\n",
    "        "
   ]
  },
  {
   "cell_type": "code",
   "execution_count": 6,
   "metadata": {},
   "outputs": [
    {
     "name": "stdout",
     "output_type": "stream",
     "text": [
      "[0 0 0 0 0 0 0 0 0 0 1 1 1 1 0 0 1 0 1 0 0 0 0 0 0 0 0 0 0 1 0 1 0 0 1 0 0\n",
      " 1 0 0 0 0 0 0 1 0 0 0 1 0 0 0 1 0 0 0 0 0 0 1 0 1 1 0 0 0]\n",
      "[0.05436215 0.16819074 0.04433422 0.04387933 0.13715372 0.15788801\n",
      " 0.04058691 0.04667005 0.09003856 0.08832251 0.96613515 0.75832702\n",
      " 0.99569772 0.94005707 0.02540194 0.07377575 0.05307942 0.04994557\n",
      " 0.44090192 0.16643119 0.04386788 0.01132225 0.17424969 0.03764052\n",
      " 0.12038919 0.02456162 0.26366594 0.19982067 0.06637962 0.18750793\n",
      " 0.04525568 0.69727496 0.09392169 0.02744175 0.03570738 0.16807566\n",
      " 0.22430116 0.5825761  0.03040045 0.02525213 0.4667178  0.24898023\n",
      " 0.02193602 0.03427046 0.53149483 0.01169863 0.14115615 0.58924275\n",
      " 0.78932246 0.08376726 0.03450891 0.27700359 0.46350455 0.05970641\n",
      " 0.4015461  0.03787757 0.04864643 0.08568101 0.10685791 0.99229631\n",
      " 0.05040746 0.5638874  0.3593169  0.04833774 0.05515424 0.03275611]\n"
     ]
    }
   ],
   "source": [
    "y_test , test_proba = load_model(\"data/Data_flow/tradeoff\")\n",
    "\n",
    "F = y_test[:,0]\n",
    "proba_F = test_proba[:,0]\n",
    "\n",
    "I = y_test[:,1]\n",
    "proba_I = test_proba[:,1]\n",
    "\n",
    "print(I)\n",
    "print(proba_I)"
   ]
  },
  {
   "cell_type": "code",
   "execution_count": 59,
   "metadata": {},
   "outputs": [
    {
     "data": {
      "text/plain": [
       "array([[0, 0, 1],\n",
       "       [0, 0, 1],\n",
       "       [0, 0, 0],\n",
       "       [1, 0, 1],\n",
       "       [0, 0, 1],\n",
       "       [0, 0, 1],\n",
       "       [0, 0, 1],\n",
       "       [0, 0, 1],\n",
       "       [0, 0, 1],\n",
       "       [0, 0, 1],\n",
       "       [0, 1, 0],\n",
       "       [0, 1, 1],\n",
       "       [1, 1, 1],\n",
       "       [0, 1, 0],\n",
       "       [0, 0, 0],\n",
       "       [0, 0, 1],\n",
       "       [0, 0, 0],\n",
       "       [0, 0, 0],\n",
       "       [0, 0, 1],\n",
       "       [0, 0, 0],\n",
       "       [0, 0, 0],\n",
       "       [0, 0, 0],\n",
       "       [0, 0, 1],\n",
       "       [0, 0, 1],\n",
       "       [0, 0, 0],\n",
       "       [0, 0, 0],\n",
       "       [0, 0, 0],\n",
       "       [0, 0, 1],\n",
       "       [0, 0, 0],\n",
       "       [0, 0, 1],\n",
       "       [0, 0, 0],\n",
       "       [0, 1, 0],\n",
       "       [0, 0, 0],\n",
       "       [0, 0, 0],\n",
       "       [0, 0, 0],\n",
       "       [0, 0, 1],\n",
       "       [0, 0, 0],\n",
       "       [0, 1, 0],\n",
       "       [0, 0, 0],\n",
       "       [0, 0, 1],\n",
       "       [0, 0, 0],\n",
       "       [0, 0, 0],\n",
       "       [0, 0, 1],\n",
       "       [0, 0, 0],\n",
       "       [0, 1, 0],\n",
       "       [0, 0, 0],\n",
       "       [0, 0, 1],\n",
       "       [0, 1, 0],\n",
       "       [0, 1, 0],\n",
       "       [0, 0, 0],\n",
       "       [0, 0, 0],\n",
       "       [0, 0, 0],\n",
       "       [0, 0, 1],\n",
       "       [0, 0, 0],\n",
       "       [0, 0, 1],\n",
       "       [0, 0, 0],\n",
       "       [0, 0, 0],\n",
       "       [0, 0, 0],\n",
       "       [0, 0, 0],\n",
       "       [1, 1, 0],\n",
       "       [0, 0, 1],\n",
       "       [0, 1, 0],\n",
       "       [0, 0, 0],\n",
       "       [0, 0, 0],\n",
       "       [0, 0, 0],\n",
       "       [0, 0, 1]])"
      ]
     },
     "execution_count": 59,
     "metadata": {},
     "output_type": "execute_result"
    }
   ],
   "source": [
    "np.where(test_proba>0.5,1,0)"
   ]
  },
  {
   "cell_type": "code",
   "execution_count": 43,
   "metadata": {},
   "outputs": [
    {
     "data": {
      "text/plain": [
       "(66, 3)"
      ]
     },
     "execution_count": 43,
     "metadata": {},
     "output_type": "execute_result"
    }
   ],
   "source": [
    "y_test.shape"
   ]
  },
  {
   "cell_type": "code",
   "execution_count": 9,
   "metadata": {},
   "outputs": [
    {
     "data": {
      "text/plain": [
       "[<matplotlib.lines.Line2D at 0x1e47c4c0748>,\n",
       " <matplotlib.lines.Line2D at 0x1e47c4c0a20>]"
      ]
     },
     "execution_count": 9,
     "metadata": {},
     "output_type": "execute_result"
    },
    {
     "data": {
      "image/png": "[encoded data removed]",
      "text/plain": [
       "<Figure size 432x288 with 1 Axes>"
      ]
     },
     "metadata": {
      "needs_background": "light"
     },
     "output_type": "display_data"
    }
   ],
   "source": [
    "plt.plot(np.linspace(0,1,11),evaluate(I, proba_I),'r-*','o')\n",
    "# plt.xticks(np.linspace(0,1,11))"
   ]
  },
  {
   "cell_type": "code",
   "execution_count": 8,
   "metadata": {},
   "outputs": [],
   "source": [
    "plt.show()"
   ]
  },
  {
   "cell_type": "code",
   "execution_count": 15,
   "metadata": {},
   "outputs": [
    {
     "name": "stdout",
     "output_type": "stream",
     "text": [
      "[0 0 0 1 0 0 0 0 0 0 0 0 1 0 0 0 0 0 0 0 0 0 0 0 0 0 0 0 0 0 0 0 0 0 0 0 0\n",
      " 0 0 0 0 0 0 0 0 0 0 1 0 0 0 0 0 0 0 0 0 0 0 1 0 0 0 0 0 0]\n",
      "[0.01052794 0.05780776 0.00536204 0.81266105 0.00684025 0.00463124\n",
      " 0.00370018 0.00343554 0.00722703 0.01207611 0.00683993 0.0037133\n",
      " 0.99675616 0.00332347 0.00418135 0.00370018 0.00420104 0.00315394\n",
      " 0.0035982  0.00515754 0.00326482 0.00828606 0.00329218 0.00315767\n",
      " 0.00988232 0.00389518 0.00594324 0.11323836 0.00350414 0.00436878\n",
      " 0.0054268  0.00327134 0.00419534 0.00315394 0.01526492 0.00610304\n",
      " 0.00360931 0.02023842 0.00513231 0.00341355 0.13956009 0.00574019\n",
      " 0.00621448 0.02514399 0.00691469 0.01177095 0.00377531 0.02517948\n",
      " 0.00360552 0.00460348 0.0194688  0.0054602  0.00637993 0.00365016\n",
      " 0.00461325 0.00593825 0.13808609 0.00821103 0.00705625 0.99675616\n",
      " 0.00401888 0.01056227 0.01030329 0.00549539 0.00414735 0.00315767]\n"
     ]
    }
   ],
   "source": [
    "print(F)\n",
    "print(proba_F)"
   ]
  },
  {
   "cell_type": "code",
   "execution_count": 56,
   "metadata": {},
   "outputs": [],
   "source": [
    "def bound(y_1,y_2 ):\n",
    "    y_1=y_1[:,np.newaxis]\n",
    "    y_2=y_2[:,np.newaxis]\n",
    "    return  np.hstack((y_1,y_2))"
   ]
  },
  {
   "cell_type": "code",
   "execution_count": 57,
   "metadata": {},
   "outputs": [
    {
     "data": {
      "text/plain": [
       "array([0, 0, 0, 1, 0, 0, 0, 0, 0, 0, 0, 0, 1, 0, 0, 0, 0, 0, 0, 0, 0, 0,\n",
       "       0, 0, 0, 0, 0, 0, 0, 0, 0, 0, 0, 0, 0, 0, 0, 0, 0, 0, 0, 0, 0, 0,\n",
       "       0, 0, 0, 1, 0, 0, 0, 0, 0, 0, 0, 0, 0, 0, 0, 1, 0, 0, 0, 0, 0, 0])"
      ]
     },
     "execution_count": 57,
     "metadata": {},
     "output_type": "execute_result"
    }
   ],
   "source": [
    "F"
   ]
  },
  {
   "cell_type": "code",
   "execution_count": 51,
   "metadata": {},
   "outputs": [
    {
     "data": {
      "text/plain": [
       "array([0, 0, 0, 0, 0, 0, 0, 0, 0, 0, 1, 1, 1, 1, 0, 0, 1, 0, 1, 0, 0, 0,\n",
       "       0, 0, 0, 0, 0, 0, 0, 1, 0, 1, 0, 0, 1, 0, 0, 1, 0, 0, 0, 0, 0, 0,\n",
       "       1, 0, 0, 0, 1, 0, 0, 0, 1, 0, 0, 0, 0, 0, 0, 1, 0, 1, 1, 0, 0, 0])"
      ]
     },
     "execution_count": 51,
     "metadata": {},
     "output_type": "execute_result"
    }
   ],
   "source": [
    "I"
   ]
  },
  {
   "cell_type": "code",
   "execution_count": 58,
   "metadata": {},
   "outputs": [
    {
     "data": {
      "text/plain": [
       "array([[0, 0],\n",
       "       [0, 0],\n",
       "       [0, 0],\n",
       "       [1, 0],\n",
       "       [0, 0],\n",
       "       [0, 0],\n",
       "       [0, 0],\n",
       "       [0, 0],\n",
       "       [0, 0],\n",
       "       [0, 0],\n",
       "       [0, 1],\n",
       "       [0, 1],\n",
       "       [1, 1],\n",
       "       [0, 1],\n",
       "       [0, 0],\n",
       "       [0, 0],\n",
       "       [0, 1],\n",
       "       [0, 0],\n",
       "       [0, 1],\n",
       "       [0, 0],\n",
       "       [0, 0],\n",
       "       [0, 0],\n",
       "       [0, 0],\n",
       "       [0, 0],\n",
       "       [0, 0],\n",
       "       [0, 0],\n",
       "       [0, 0],\n",
       "       [0, 0],\n",
       "       [0, 0],\n",
       "       [0, 1],\n",
       "       [0, 0],\n",
       "       [0, 1],\n",
       "       [0, 0],\n",
       "       [0, 0],\n",
       "       [0, 1],\n",
       "       [0, 0],\n",
       "       [0, 0],\n",
       "       [0, 1],\n",
       "       [0, 0],\n",
       "       [0, 0],\n",
       "       [0, 0],\n",
       "       [0, 0],\n",
       "       [0, 0],\n",
       "       [0, 0],\n",
       "       [0, 1],\n",
       "       [0, 0],\n",
       "       [0, 0],\n",
       "       [1, 0],\n",
       "       [0, 1],\n",
       "       [0, 0],\n",
       "       [0, 0],\n",
       "       [0, 0],\n",
       "       [0, 1],\n",
       "       [0, 0],\n",
       "       [0, 0],\n",
       "       [0, 0],\n",
       "       [0, 0],\n",
       "       [0, 0],\n",
       "       [0, 0],\n",
       "       [1, 1],\n",
       "       [0, 0],\n",
       "       [0, 1],\n",
       "       [0, 1],\n",
       "       [0, 0],\n",
       "       [0, 0],\n",
       "       [0, 0]])"
      ]
     },
     "execution_count": 58,
     "metadata": {},
     "output_type": "execute_result"
    }
   ],
   "source": [
    "bound(F,I)"
   ]
  },
  {
   "cell_type": "code",
   "execution_count": 105,
   "metadata": {},
   "outputs": [],
   "source": [
    "import pandas as pd\n",
    "import numpy as np\n",
    "import matplotlib.pyplot as plt\n",
    "import seaborn as sns\n",
    "sns.set(style=\"whitegrid\")\n",
    "sns.set_context(\"paper\",font_scale =1.25)\n",
    "\n",
    "\n",
    "def analysis(label):\n",
    "    if label in ['Sign_F', 'Proba_F']:\n",
    "        newlabel = \"Financial flow\"\n",
    "\n",
    "    elif label in [\"Sign_I\", 'Proba_I']:\n",
    "        newlabel = \"Information flow\"\n",
    "\n",
    "    elif label in [\"Sign_P\", 'Proba_P']:\n",
    "        newlabel = \"Physical flow\"\n",
    "\n",
    "    else:\n",
    "        raise Exception(\"wrong label\")\n",
    "\n",
    "    return newlabel\n",
    "\n",
    "def style_tri(data):\n",
    "    fig, ax = plt.subplots(2, 1)\n",
    "    years = data.index\n",
    "    names = data.columns[:-1]  # 去除掉year\n",
    "    for i, label in enumerate(names):\n",
    "        cnt = data[label]\n",
    "        sns.barplot(x=years, y=cnt, color=\"salmon\", saturation=.5, ax=ax[i])\n",
    "        # delete spines\n",
    "        ax[i].spines['top'].set_visible(False)\n",
    "        ax[i].spines['right'].set_visible(False)\n",
    "        ax[i].spines['bottom'].set_visible(False)\n",
    "        ax[i].spines['left'].set_visible(False)\n",
    "\n",
    "        # add values on bar plot\n",
    "        for p in ax[i].patches:\n",
    "            ax[i].annotate(\"%i\" % p.get_height(), (p.get_x() + p.get_width() / 2., p.get_height()),\n",
    "                           ha='center', va='center', fontsize=11, color='black', xytext=(0, 10),\n",
    "                           textcoords='offset points')\n",
    "        ax[i].set_title(\"%s\" % label)\n",
    "        ax[i].set_xlabel(\"\")\n",
    "        ax[i].set_ylabel(\"\")\n",
    "        # ax[i].xticks(rotation=45)\n",
    "    plt.suptitle(\"The Chancing Trends\", fontsize = 15)\n",
    "    plt.subplots_adjust(hspace=0.5)\n",
    "    plt.show()\n",
    "    return None\n",
    "\n",
    "def style_one(rawdata,sigs):\n",
    "    data = rawdata.melt('YEAR', var_name='Type', value_name='Count')\n",
    "    g = sns.barplot(x='YEAR',y='Count',hue='Type',data=data)\n",
    "\n",
    "    # modify legends\n",
    "    plt.title('The Chancing Trends',  fontsize = 15)\n",
    "    ax = plt.gca()\n",
    "    ax.spines['top'].set_visible(False)\n",
    "    ax.spines['right'].set_visible(False)\n",
    "    ax.spines['bottom'].set_visible(False)\n",
    "    ax.spines['left'].set_visible(False)\n",
    "    plt.xlabel(\"\")\n",
    "    plt.ylabel(\"\")\n",
    "    plt.show()\n",
    "    return None\n",
    "\n",
    "def process(rawdata, sigs):\n",
    "    min_year = rawdata.YEAR.min()\n",
    "    max_year = rawdata.YEAR.max()\n",
    "    newdata = pd.DataFrame(np.array(range(min_year, max_year + 1)), columns=['YEAR']).set_index('YEAR')\n",
    "    for i, label in enumerate(sigs):\n",
    "        group = rawdata[rawdata[label] == 1].groupby(['YEAR']).count().DOI.to_frame()\n",
    "        group.rename(columns={'DOI':analysis(label)},inplace= True)\n",
    "        newdata = newdata.join(group)\n",
    "\n",
    "    newdata = newdata.fillna(0)\n",
    "    newdata['YEAR'] = newdata.index\n",
    "    return newdata\n",
    "\n",
    "\n",
    "def process_proba(rawdata, probas, thetas):\n",
    "    min_year = rawdata.YEAR.min()\n",
    "    max_year = rawdata.YEAR.max()\n",
    "    newdata = pd.DataFrame(np.array(range(min_year, max_year + 1)), columns=['YEAR']).set_index('YEAR')\n",
    "\n",
    "    for label, theta in zip(probas, thetas):\n",
    "        rawdata[label] = pd.Series(np.where(rawdata[label].values >= theta, 1, 0))\n",
    "\n",
    "    for i, label in enumerate(probas):\n",
    "        group = rawdata[rawdata[label] == 1].groupby(['YEAR']).count().DOI.to_frame()\n",
    "        group.rename(columns={'DOI': analysis(label)}, inplace=True)\n",
    "        newdata = newdata.join(group)\n",
    "\n",
    "    newdata = newdata.fillna(0)\n",
    "    newdata['YEAR'] = newdata.index\n",
    "    return newdata"
   ]
  },
  {
   "cell_type": "code",
   "execution_count": 106,
   "metadata": {},
   "outputs": [],
   "source": [
    "    data = pd.read_excel(\"data/Data_flow/all_prediction.xlsx\")\n",
    "    # print(data.info())\n",
    "    thetas = [0.5, 0.3]\n",
    "    probs=['Proba_F', 'Proba_I']\n",
    "    data = process_proba(data, probs, thetas)"
   ]
  },
  {
   "cell_type": "code",
   "execution_count": 107,
   "metadata": {},
   "outputs": [
    {
     "data": {
      "text/html": [
       "<div>\n",
       "<style scoped>\n",
       "    .dataframe tbody tr th:only-of-type {\n",
       "        vertical-align: middle;\n",
       "    }\n",
       "\n",
       "    .dataframe tbody tr th {\n",
       "        vertical-align: top;\n",
       "    }\n",
       "\n",
       "    .dataframe thead th {\n",
       "        text-align: right;\n",
       "    }\n",
       "</style>\n",
       "<table border=\"1\" class=\"dataframe\">\n",
       "  <thead>\n",
       "    <tr style=\"text-align: right;\">\n",
       "      <th></th>\n",
       "      <th>Financial flow</th>\n",
       "      <th>Information flow</th>\n",
       "      <th>YEAR</th>\n",
       "    </tr>\n",
       "    <tr>\n",
       "      <th>YEAR</th>\n",
       "      <th></th>\n",
       "      <th></th>\n",
       "      <th></th>\n",
       "    </tr>\n",
       "  </thead>\n",
       "  <tbody>\n",
       "    <tr>\n",
       "      <th>1997</th>\n",
       "      <td>3.0</td>\n",
       "      <td>10</td>\n",
       "      <td>1997</td>\n",
       "    </tr>\n",
       "    <tr>\n",
       "      <th>1998</th>\n",
       "      <td>0.0</td>\n",
       "      <td>6</td>\n",
       "      <td>1998</td>\n",
       "    </tr>\n",
       "    <tr>\n",
       "      <th>1999</th>\n",
       "      <td>1.0</td>\n",
       "      <td>14</td>\n",
       "      <td>1999</td>\n",
       "    </tr>\n",
       "    <tr>\n",
       "      <th>2000</th>\n",
       "      <td>4.0</td>\n",
       "      <td>11</td>\n",
       "      <td>2000</td>\n",
       "    </tr>\n",
       "    <tr>\n",
       "      <th>2001</th>\n",
       "      <td>1.0</td>\n",
       "      <td>21</td>\n",
       "      <td>2001</td>\n",
       "    </tr>\n",
       "    <tr>\n",
       "      <th>2002</th>\n",
       "      <td>1.0</td>\n",
       "      <td>18</td>\n",
       "      <td>2002</td>\n",
       "    </tr>\n",
       "    <tr>\n",
       "      <th>2003</th>\n",
       "      <td>4.0</td>\n",
       "      <td>14</td>\n",
       "      <td>2003</td>\n",
       "    </tr>\n",
       "    <tr>\n",
       "      <th>2004</th>\n",
       "      <td>6.0</td>\n",
       "      <td>24</td>\n",
       "      <td>2004</td>\n",
       "    </tr>\n",
       "    <tr>\n",
       "      <th>2005</th>\n",
       "      <td>6.0</td>\n",
       "      <td>31</td>\n",
       "      <td>2005</td>\n",
       "    </tr>\n",
       "    <tr>\n",
       "      <th>2006</th>\n",
       "      <td>1.0</td>\n",
       "      <td>21</td>\n",
       "      <td>2006</td>\n",
       "    </tr>\n",
       "    <tr>\n",
       "      <th>2007</th>\n",
       "      <td>7.0</td>\n",
       "      <td>40</td>\n",
       "      <td>2007</td>\n",
       "    </tr>\n",
       "    <tr>\n",
       "      <th>2008</th>\n",
       "      <td>2.0</td>\n",
       "      <td>30</td>\n",
       "      <td>2008</td>\n",
       "    </tr>\n",
       "    <tr>\n",
       "      <th>2009</th>\n",
       "      <td>3.0</td>\n",
       "      <td>31</td>\n",
       "      <td>2009</td>\n",
       "    </tr>\n",
       "    <tr>\n",
       "      <th>2010</th>\n",
       "      <td>6.0</td>\n",
       "      <td>23</td>\n",
       "      <td>2010</td>\n",
       "    </tr>\n",
       "    <tr>\n",
       "      <th>2011</th>\n",
       "      <td>5.0</td>\n",
       "      <td>29</td>\n",
       "      <td>2011</td>\n",
       "    </tr>\n",
       "    <tr>\n",
       "      <th>2012</th>\n",
       "      <td>6.0</td>\n",
       "      <td>35</td>\n",
       "      <td>2012</td>\n",
       "    </tr>\n",
       "    <tr>\n",
       "      <th>2013</th>\n",
       "      <td>7.0</td>\n",
       "      <td>30</td>\n",
       "      <td>2013</td>\n",
       "    </tr>\n",
       "    <tr>\n",
       "      <th>2014</th>\n",
       "      <td>7.0</td>\n",
       "      <td>43</td>\n",
       "      <td>2014</td>\n",
       "    </tr>\n",
       "    <tr>\n",
       "      <th>2015</th>\n",
       "      <td>11.0</td>\n",
       "      <td>50</td>\n",
       "      <td>2015</td>\n",
       "    </tr>\n",
       "    <tr>\n",
       "      <th>2016</th>\n",
       "      <td>6.0</td>\n",
       "      <td>40</td>\n",
       "      <td>2016</td>\n",
       "    </tr>\n",
       "    <tr>\n",
       "      <th>2017</th>\n",
       "      <td>20.0</td>\n",
       "      <td>37</td>\n",
       "      <td>2017</td>\n",
       "    </tr>\n",
       "    <tr>\n",
       "      <th>2018</th>\n",
       "      <td>24.0</td>\n",
       "      <td>49</td>\n",
       "      <td>2018</td>\n",
       "    </tr>\n",
       "  </tbody>\n",
       "</table>\n",
       "</div>"
      ],
      "text/plain": [
       "      Financial flow  Information flow  YEAR\n",
       "YEAR                                        \n",
       "1997             3.0                10  1997\n",
       "1998             0.0                 6  1998\n",
       "1999             1.0                14  1999\n",
       "2000             4.0                11  2000\n",
       "2001             1.0                21  2001\n",
       "2002             1.0                18  2002\n",
       "2003             4.0                14  2003\n",
       "2004             6.0                24  2004\n",
       "2005             6.0                31  2005\n",
       "2006             1.0                21  2006\n",
       "2007             7.0                40  2007\n",
       "2008             2.0                30  2008\n",
       "2009             3.0                31  2009\n",
       "2010             6.0                23  2010\n",
       "2011             5.0                29  2011\n",
       "2012             6.0                35  2012\n",
       "2013             7.0                30  2013\n",
       "2014             7.0                43  2014\n",
       "2015            11.0                50  2015\n",
       "2016             6.0                40  2016\n",
       "2017            20.0                37  2017\n",
       "2018            24.0                49  2018"
      ]
     },
     "execution_count": 107,
     "metadata": {},
     "output_type": "execute_result"
    }
   ],
   "source": [
    "data"
   ]
  },
  {
   "cell_type": "code",
   "execution_count": 108,
   "metadata": {},
   "outputs": [],
   "source": [
    "years = data.index\n",
    "names = data.columns[:-1]  # 去除掉year"
   ]
  },
  {
   "cell_type": "code",
   "execution_count": 109,
   "metadata": {},
   "outputs": [
    {
     "data": {
      "text/plain": [
       "Index(['Financial flow', 'Information flow'], dtype='object')"
      ]
     },
     "execution_count": 109,
     "metadata": {},
     "output_type": "execute_result"
    }
   ],
   "source": [
    "names"
   ]
  },
  {
   "cell_type": "code",
   "execution_count": null,
   "metadata": {},
   "outputs": [],
   "source": []
  }
 ],
 "metadata": {
  "kernelspec": {
   "display_name": "Python 3",
   "language": "python",
   "name": "python3"
  },
  "language_info": {
   "codemirror_mode": {
    "name": "ipython",
    "version": 3
   },
   "file_extension": ".py",
   "mimetype": "text/x-python",
   "name": "python",
   "nbconvert_exporter": "python",
   "pygments_lexer": "ipython3",
   "version": "3.7.3"
  }
 },
 "nbformat": 4,
 "nbformat_minor": 2
}
